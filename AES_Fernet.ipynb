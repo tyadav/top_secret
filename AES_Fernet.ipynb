{
 "cells": [
  {
   "cell_type": "code",
   "execution_count": 53,
   "metadata": {},
   "outputs": [],
   "source": [
    "# Encrypting and Decrypting Files\n",
    "from cryptography.fernet import Fernet\n",
    "key = b'grb4_o47x9QM_M-Bj5DawYl_9IcJJUgBCtxkVajfWhc=' # Use one of the methods to get a key (it must be the same when decrypting it)\n",
    "input_file = 'Output1.txt'\n",
    "output_file = 'test.encrypted'\n",
    "\n",
    "with open(input_file, 'rb') as f:\n",
    "    data = f.read()\n",
    "\n",
    "fernet = Fernet(key)\n",
    "encrypted = fernet.encrypt(data)\n",
    "\n",
    "with open(output_file, 'wb') as f:\n",
    "    f.write(encrypted)"
   ]
  },
  {
   "cell_type": "code",
   "execution_count": 54,
   "metadata": {},
   "outputs": [],
   "source": [
    "from cryptography.fernet import Fernet\n",
    "key = b'grb4_o47x9QM_M-Bj5DawYl_9IcJJUgBCtxkVajfWhc=' # Use one of the methods to get a key (it must be the same as used in encrypting)\n",
    "input_file = 'test.encrypted'\n",
    "output_file = 'test.txt'\n",
    "\n",
    "with open(input_file, 'rb') as f:\n",
    "    data = f.read()\n",
    "\n",
    "fernet = Fernet(key)\n",
    "encrypted1 = fernet.decrypt(data)\n",
    "msg1 = \"\".join(map(chr, encrypted1))\n",
    "\n",
    "with open(output_file, 'wb') as f:\n",
    "    f.write(encrypted)\n"
   ]
  },
  {
   "cell_type": "code",
   "execution_count": 55,
   "metadata": {},
   "outputs": [
    {
     "name": "stdout",
     "output_type": "stream",
     "text": [
      "c3VwZXJ1c2VyOnN1cGVyc2VjcmV0\n",
      "\n"
     ]
    }
   ],
   "source": [
    "print(msg1)"
   ]
  },
  {
   "cell_type": "code",
   "execution_count": null,
   "metadata": {},
   "outputs": [],
   "source": []
  },
  {
   "cell_type": "code",
   "execution_count": null,
   "metadata": {},
   "outputs": [],
   "source": []
  },
  {
   "cell_type": "code",
   "execution_count": null,
   "metadata": {},
   "outputs": [],
   "source": [
    "# To generate a new random key,\n",
    "from cryptography.fernet import Fernet\n",
    "key = Fernet.generate_key()\n",
    "key"
   ]
  },
  {
   "cell_type": "code",
   "execution_count": null,
   "metadata": {},
   "outputs": [],
   "source": [
    "# For storing keys\n",
    "file = open('key.key', 'wb')\n",
    "file.write(key) # The key is type bytes still\n",
    "file.close()"
   ]
  },
  {
   "cell_type": "code",
   "execution_count": null,
   "metadata": {},
   "outputs": [],
   "source": [
    "# for Reading keys\n",
    "file = open('key.key', 'rb')\n",
    "key = file.read() # The key will be type bytes\n",
    "file.close()"
   ]
  },
  {
   "cell_type": "code",
   "execution_count": null,
   "metadata": {},
   "outputs": [],
   "source": [
    "#Generating a Key From A Password\n",
    "# If you want to base your key of a string that the user can input or some other form of input, you can create a key using this input.\n",
    "import base64\n",
    "import os\n",
    "from cryptography.hazmat.backends import default_backend\n",
    "from cryptography.hazmat.primitives import hashes\n",
    "from cryptography.hazmat.primitives.kdf.pbkdf2 import PBKDF2HMAC\n",
    "\n",
    "password_provided = \"password\" # This is input in the form of a string\n",
    "password = password_provided.encode() # Convert to type bytes\n",
    "salt = b'salt_' # CHANGE THIS - recommend using a key from os.urandom(16), must be of type bytes\n",
    "kdf = PBKDF2HMAC(\n",
    "    algorithm=hashes.SHA256(),\n",
    "    length=32,\n",
    "    salt=salt,\n",
    "    iterations=100000,\n",
    "    backend=default_backend()\n",
    ")\n",
    "key = base64.urlsafe_b64encode(kdf.derive(password)) # Can only use kdf once"
   ]
  },
  {
   "cell_type": "code",
   "execution_count": null,
   "metadata": {},
   "outputs": [],
   "source": [
    "# To encrypt a message, you will need a key (as previously discussed) and your message as type bytes (you can convert strings to bytes using .encode()).\n",
    "from cryptography.fernet import Fernet\n",
    "message = \"my deep dark secret\".encode()\n",
    "key = Fernet.generate_key() # Store this key or get if you already have it\n",
    "f = Fernet(key)\n",
    "encrypted = f.encrypt(message)\n",
    "decrypted = f.decrypt(encrypted)\n",
    "message == decrypted\n",
    "True\n"
   ]
  }
 ],
 "metadata": {
  "kernelspec": {
   "display_name": "Python 3",
   "language": "python",
   "name": "python3"
  },
  "language_info": {
   "codemirror_mode": {
    "name": "ipython",
    "version": 3
   },
   "file_extension": ".py",
   "mimetype": "text/x-python",
   "name": "python",
   "nbconvert_exporter": "python",
   "pygments_lexer": "ipython3",
   "version": "3.7.6"
  }
 },
 "nbformat": 4,
 "nbformat_minor": 4
}
