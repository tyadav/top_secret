{
 "cells": [
  {
   "cell_type": "code",
   "execution_count": 1,
   "metadata": {},
   "outputs": [],
   "source": [
    "from Crypto.Cipher import AES\n",
    "from Crypto.Hash import SHA256\n",
    "\n",
    "password = (\"supersecret:\")\n",
    "\n",
    "hash_obj = SHA256.new(password.encode('utf-8'))\n",
    "hkey = hash_obj.digest()\n",
    "\n",
    "def encrypt(info):\n",
    "    msg = info\n",
    "    BLOCK_SIZE = 16\n",
    "    PAD = \"{\"\n",
    "    padding = lambda s: s + (BLOCK_SIZE - len(s) % BLOCK_SIZE) * PAD\n",
    "    cipher = AES.new(hkey, AES.MODE_ECB)\n",
    "    result = cipher.encrypt(padding(msg).encode('utf-8'))\n",
    "    return result    \n",
    "\n",
    "msg = \"I love Python\"\n",
    "cipher_text = encrypt(msg)"
   ]
  },
  {
   "cell_type": "code",
   "execution_count": 2,
   "metadata": {},
   "outputs": [
    {
     "name": "stdout",
     "output_type": "stream",
     "text": [
      "b'b\\xdd\\xe0\\xed\\xf7\\xd2\\\\\\x19\\x93\\xbeA\\xbb\\xcc\\xc3=s'\n"
     ]
    }
   ],
   "source": [
    "print(cipher_text)"
   ]
  },
  {
   "cell_type": "code",
   "execution_count": 3,
   "metadata": {},
   "outputs": [
    {
     "name": "stdout",
     "output_type": "stream",
     "text": [
      "I love Python\n"
     ]
    }
   ],
   "source": [
    "def decrypt(info):\n",
    "    msg = info\n",
    "    PAD = \"{\"\n",
    "    decipher = AES.new(hkey, AES.MODE_ECB)\n",
    "    pt = decipher.decrypt(msg).decode('utf-8')\n",
    "    pad_index = pt.find(PAD)\n",
    "    result = pt[: pad_index]\n",
    "    return result\n",
    "\n",
    "plaintext = decrypt(cipher_text)\n",
    "\n",
    "print(plaintext)"
   ]
  },
  {
   "cell_type": "code",
   "execution_count": null,
   "metadata": {},
   "outputs": [],
   "source": []
  }
 ],
 "metadata": {
  "kernelspec": {
   "display_name": "Python 3",
   "language": "python",
   "name": "python3"
  },
  "language_info": {
   "codemirror_mode": {
    "name": "ipython",
    "version": 3
   },
   "file_extension": ".py",
   "mimetype": "text/x-python",
   "name": "python",
   "nbconvert_exporter": "python",
   "pygments_lexer": "ipython3",
   "version": "3.7.6"
  }
 },
 "nbformat": 4,
 "nbformat_minor": 4
}
